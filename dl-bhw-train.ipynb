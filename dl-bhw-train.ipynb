{
 "cells": [
  {
   "cell_type": "code",
   "execution_count": 229,
   "metadata": {
    "cellId": "1u5lm6tlnpeyee4c89tcc"
   },
   "outputs": [],
   "source": [
    "#!g2.1\n",
    "%reload_ext autoreload\n",
    "%autoreload 2"
   ]
  },
  {
   "cell_type": "code",
   "execution_count": 48,
   "metadata": {
    "cellId": "2cht399hq2811pfozweqf6p"
   },
   "outputs": [
    {
     "name": "stderr",
     "output_type": "stream",
     "text": [
      "fatal: destination path 'llama' already exists and is not an empty directory.\n"
     ]
    },
    {
     "ename": "Exception",
     "evalue": "Process exited with code 128",
     "output_type": "error",
     "traceback": [
      "\u001b[0;31m---------------------------------------------------------------------------\u001b[0m",
      "\u001b[0;31mException\u001b[0m                                 Traceback (most recent call last)",
      "\u001b[0;32m<ipython-input-2-ce945c4aef16>\u001b[0m in \u001b[0;36m<module>\u001b[0;34m\u001b[0m\n\u001b[0;32m----> 1\u001b[0;31m \u001b[0mget_ipython\u001b[0m\u001b[0;34m(\u001b[0m\u001b[0;34m)\u001b[0m\u001b[0;34m.\u001b[0m\u001b[0msystem\u001b[0m\u001b[0;34m(\u001b[0m\u001b[0;34m'git clone https://github.com/Just-ne-Just/llama.git'\u001b[0m\u001b[0;34m)\u001b[0m\u001b[0;34m\u001b[0m\u001b[0;34m\u001b[0m\u001b[0m\n\u001b[0m\u001b[1;32m      2\u001b[0m \u001b[0;31m#\u001b[0m\u001b[0;34m\u001b[0m\u001b[0;34m\u001b[0m\u001b[0m\n",
      "\u001b[0;32m/kernel/lib/python3.10/site-packages/ml_kernel/kernel.py\u001b[0m in \u001b[0;36m<lambda>\u001b[0;34m(code)\u001b[0m\n\u001b[1;32m    295\u001b[0m \u001b[0;34m\u001b[0m\u001b[0m\n\u001b[1;32m    296\u001b[0m         \u001b[0mself\u001b[0m\u001b[0;34m.\u001b[0m\u001b[0m_script_executor\u001b[0m \u001b[0;34m=\u001b[0m \u001b[0mScriptExecutor\u001b[0m\u001b[0;34m(\u001b[0m\u001b[0mget_output_error_code\u001b[0m\u001b[0;34m)\u001b[0m\u001b[0;34m\u001b[0m\u001b[0;34m\u001b[0m\u001b[0m\n\u001b[0;32m--> 297\u001b[0;31m         \u001b[0mself\u001b[0m\u001b[0;34m.\u001b[0m\u001b[0mshell\u001b[0m\u001b[0;34m.\u001b[0m\u001b[0msystem\u001b[0m \u001b[0;34m=\u001b[0m \u001b[0;32mlambda\u001b[0m \u001b[0mcode\u001b[0m\u001b[0;34m:\u001b[0m \u001b[0mself\u001b[0m\u001b[0;34m.\u001b[0m\u001b[0m_script_executor\u001b[0m\u001b[0;34m.\u001b[0m\u001b[0mexecute\u001b[0m\u001b[0;34m(\u001b[0m\u001b[0;34m\"bash\"\u001b[0m\u001b[0;34m,\u001b[0m \u001b[0mcode\u001b[0m\u001b[0;34m)\u001b[0m\u001b[0;34m\u001b[0m\u001b[0;34m\u001b[0m\u001b[0m\n\u001b[0m\u001b[1;32m    298\u001b[0m \u001b[0;34m\u001b[0m\u001b[0m\n\u001b[1;32m    299\u001b[0m     \u001b[0;32mdef\u001b[0m \u001b[0m_init_message_handlers\u001b[0m\u001b[0;34m(\u001b[0m\u001b[0mself\u001b[0m\u001b[0;34m)\u001b[0m\u001b[0;34m:\u001b[0m\u001b[0;34m\u001b[0m\u001b[0;34m\u001b[0m\u001b[0m\n",
      "\u001b[0;32m/kernel/lib/python3.10/site-packages/ml_kernel/script_executor.py\u001b[0m in \u001b[0;36mexecute\u001b[0;34m(self, lang, code)\u001b[0m\n\u001b[1;32m     41\u001b[0m         \u001b[0mreturn_code\u001b[0m \u001b[0;34m=\u001b[0m \u001b[0mself\u001b[0m\u001b[0;34m.\u001b[0m\u001b[0mdo_execute\u001b[0m\u001b[0;34m(\u001b[0m\u001b[0mcode\u001b[0m\u001b[0;34m)\u001b[0m\u001b[0;34m\u001b[0m\u001b[0;34m\u001b[0m\u001b[0m\n\u001b[1;32m     42\u001b[0m         \u001b[0;32mif\u001b[0m \u001b[0mreturn_code\u001b[0m \u001b[0;34m!=\u001b[0m \u001b[0;36m0\u001b[0m\u001b[0;34m:\u001b[0m\u001b[0;34m\u001b[0m\u001b[0;34m\u001b[0m\u001b[0m\n\u001b[0;32m---> 43\u001b[0;31m             \u001b[0;32mraise\u001b[0m \u001b[0mException\u001b[0m\u001b[0;34m(\u001b[0m\u001b[0;34m'Process exited with code %d'\u001b[0m \u001b[0;34m%\u001b[0m \u001b[0mreturn_code\u001b[0m\u001b[0;34m)\u001b[0m\u001b[0;34m\u001b[0m\u001b[0;34m\u001b[0m\u001b[0m\n\u001b[0m",
      "\u001b[0;31mException\u001b[0m: Process exited with code 128"
     ]
    }
   ],
   "source": [
    "#!g2.1\n",
    "!git clone https://github.com/Just-ne-Just/llama.git"
   ]
  },
  {
   "cell_type": "code",
   "execution_count": 200,
   "metadata": {
    "cellId": "nqk8qyrrshjqw6koplydf"
   },
   "outputs": [
    {
     "name": "stdout",
     "output_type": "stream",
     "text": [
      "/home/jupyter/work/resources/llama\n"
     ]
    }
   ],
   "source": [
    "#!g2.1\n",
    "%cd llama"
   ]
  },
  {
   "cell_type": "code",
   "execution_count": 232,
   "metadata": {
    "cellId": "cislu5dop3f77w6vhfkdmg"
   },
   "outputs": [
    {
     "name": "stdout",
     "output_type": "stream",
     "text": [
      "Updating 89e009a..972ca1e\n",
      "Fast-forward\n",
      " src/train/train.py | 2 +-\n",
      " 1 file changed, 1 insertion(+), 1 deletion(-)\n"
     ]
    },
    {
     "name": "stderr",
     "output_type": "stream",
     "text": [
      "From https://github.com/Just-ne-Just/llama\n",
      " * branch            HEAD       -> FETCH_HEAD\n"
     ]
    }
   ],
   "source": [
    "#!g2.1\n",
    "!git pull https://github.com/Just-ne-Just/llama.git"
   ]
  },
  {
   "cell_type": "code",
   "execution_count": 83,
   "metadata": {
    "cellId": "bbuw1xuo92chf361rfgnwi"
   },
   "outputs": [
    {
     "name": "stdout",
     "output_type": "stream",
     "text": [
      "Defaulting to user installation because normal site-packages is not writeable\n",
      "Requirement already satisfied: sentencepiece in /home/jupyter/.local/lib/python3.10/site-packages (0.1.99)\n",
      "\n",
      "\u001b[1m[\u001b[0m\u001b[34;49mnotice\u001b[0m\u001b[1;39;49m]\u001b[0m\u001b[39;49m A new release of pip is available: \u001b[0m\u001b[31;49m23.2.1\u001b[0m\u001b[39;49m -> \u001b[0m\u001b[32;49m23.3.1\u001b[0m\n",
      "\u001b[1m[\u001b[0m\u001b[34;49mnotice\u001b[0m\u001b[1;39;49m]\u001b[0m\u001b[39;49m To update, run: \u001b[0m\u001b[32;49mpython3 -m pip install --upgrade pip\u001b[0m\n"
     ]
    }
   ],
   "source": [
    "#!g2.1\n",
    "%pip install sentencepiece"
   ]
  },
  {
   "cell_type": "code",
   "execution_count": 84,
   "metadata": {
    "cellId": "sk07jq5z1yjsu9asdtqix9"
   },
   "outputs": [
    {
     "name": "stdout",
     "output_type": "stream",
     "text": [
      "Defaulting to user installation because normal site-packages is not writeable\n",
      "Requirement already satisfied: wandb in /home/jupyter/.local/lib/python3.10/site-packages (0.16.0)\n",
      "Requirement already satisfied: Click!=8.0.0,>=7.1 in /usr/local/lib/python3.10/dist-packages (from wandb) (8.1.6)\n",
      "Requirement already satisfied: GitPython!=3.1.29,>=1.0.0 in /usr/local/lib/python3.10/dist-packages (from wandb) (3.1.32)\n",
      "Requirement already satisfied: requests<3,>=2.0.0 in /usr/local/lib/python3.10/dist-packages (from wandb) (2.27.1)\n",
      "Requirement already satisfied: psutil>=5.0.0 in /kernel/lib/python3.10/site-packages (from wandb) (5.7.3)\n",
      "Requirement already satisfied: sentry-sdk>=1.0.0 in /home/jupyter/.local/lib/python3.10/site-packages (from wandb) (1.38.0)\n",
      "Requirement already satisfied: docker-pycreds>=0.4.0 in /home/jupyter/.local/lib/python3.10/site-packages (from wandb) (0.4.0)\n",
      "Requirement already satisfied: PyYAML in /usr/local/lib/python3.10/dist-packages (from wandb) (6.0.1)\n",
      "Requirement already satisfied: setproctitle in /home/jupyter/.local/lib/python3.10/site-packages (from wandb) (1.3.3)\n",
      "Requirement already satisfied: setuptools in /kernel/lib/python3.10/site-packages (from wandb) (51.0.0)\n",
      "Requirement already satisfied: appdirs>=1.4.3 in /usr/local/lib/python3.10/dist-packages (from wandb) (1.4.4)\n",
      "Requirement already satisfied: protobuf!=4.21.0,<5,>=3.19.0 in /usr/local/lib/python3.10/dist-packages (from wandb) (3.20.3)\n",
      "Requirement already satisfied: six>=1.4.0 in /kernel/lib/python3.10/site-packages (from docker-pycreds>=0.4.0->wandb) (1.16.0)\n",
      "Requirement already satisfied: gitdb<5,>=4.0.1 in /usr/local/lib/python3.10/dist-packages (from GitPython!=3.1.29,>=1.0.0->wandb) (4.0.10)\n",
      "Requirement already satisfied: urllib3<1.27,>=1.21.1 in /usr/local/lib/python3.10/dist-packages (from requests<3,>=2.0.0->wandb) (1.26.16)\n",
      "Requirement already satisfied: certifi>=2017.4.17 in /kernel/lib/python3.10/site-packages (from requests<3,>=2.0.0->wandb) (2023.7.22)\n",
      "Collecting charset-normalizer~=2.0.0 (from requests<3,>=2.0.0->wandb)\n",
      "  Downloading charset_normalizer-2.0.12-py3-none-any.whl (39 kB)\n",
      "Requirement already satisfied: idna<4,>=2.5 in /kernel/lib/python3.10/site-packages (from requests<3,>=2.0.0->wandb) (3.4)\n",
      "Requirement already satisfied: smmap<6,>=3.0.1 in /usr/local/lib/python3.10/dist-packages (from gitdb<5,>=4.0.1->GitPython!=3.1.29,>=1.0.0->wandb) (5.0.0)\n",
      "Installing collected packages: charset-normalizer\n",
      "\u001b[33m  WARNING: The script normalizer is installed in '/home/jupyter/.local/bin' which is not on PATH.\n",
      "  Consider adding this directory to PATH or, if you prefer to suppress this warning, use --no-warn-script-location.\u001b[0m\u001b[33m\n",
      "\u001b[0mSuccessfully installed charset-normalizer-2.0.12\n",
      "\n",
      "\u001b[1m[\u001b[0m\u001b[34;49mnotice\u001b[0m\u001b[1;39;49m]\u001b[0m\u001b[39;49m A new release of pip is available: \u001b[0m\u001b[31;49m23.2.1\u001b[0m\u001b[39;49m -> \u001b[0m\u001b[32;49m23.3.1\u001b[0m\n",
      "\u001b[1m[\u001b[0m\u001b[34;49mnotice\u001b[0m\u001b[1;39;49m]\u001b[0m\u001b[39;49m To update, run: \u001b[0m\u001b[32;49mpython3 -m pip install --upgrade pip\u001b[0m\n"
     ]
    }
   ],
   "source": [
    "#!g2.1\n",
    "%pip install wandb"
   ]
  },
  {
   "cell_type": "code",
   "execution_count": 202,
   "metadata": {
    "cellId": "5ysqjgdl6h7xqh5gstvp9"
   },
   "outputs": [
    {
     "name": "stdout",
     "output_type": "stream",
     "text": [
      "Sun Dec  3 12:37:13 2023       \n",
      "+-----------------------------------------------------------------------------+\n",
      "| NVIDIA-SMI 525.147.05   Driver Version: 525.147.05   CUDA Version: 12.0     |\n",
      "|-------------------------------+----------------------+----------------------+\n",
      "| GPU  Name        Persistence-M| Bus-Id        Disp.A | Volatile Uncorr. ECC |\n",
      "| Fan  Temp  Perf  Pwr:Usage/Cap|         Memory-Usage | GPU-Util  Compute M. |\n",
      "|                               |                      |               MIG M. |\n",
      "|===============================+======================+======================|\n",
      "|   0  NVIDIA A100-SXM...  On   | 00000000:8C:00.0 Off |                    0 |\n",
      "| N/A   31C    P0    51W / 500W |      5MiB / 81920MiB |      0%      Default |\n",
      "|                               |                      |             Disabled |\n",
      "+-------------------------------+----------------------+----------------------+\n",
      "                                                                               \n",
      "+-----------------------------------------------------------------------------+\n",
      "| Processes:                                                                  |\n",
      "|  GPU   GI   CI        PID   Type   Process name                  GPU Memory |\n",
      "|        ID   ID                                                   Usage      |\n",
      "|=============================================================================|\n",
      "|    0   N/A  N/A      1166      G   /usr/lib/xorg/Xorg                  4MiB |\n",
      "+-----------------------------------------------------------------------------+\n"
     ]
    }
   ],
   "source": [
    "#!g2.1\n",
    "!nvidia-smi"
   ]
  },
  {
   "cell_type": "code",
   "execution_count": 233,
   "metadata": {
    "cellId": "mdkrbqjorvhw1b4hiui9da"
   },
   "outputs": [],
   "source": [
    "#!g2.1\n",
    "from src.dataset.dataset import TinyStoriesDataset\n",
    "from src.model.llama import LLAMA\n",
    "from src.model.utils import create_mask\n",
    "from src.train.train import train"
   ]
  },
  {
   "cell_type": "code",
   "execution_count": 204,
   "metadata": {
    "cellId": "ajjjmpmk6ocvfmz1g7snwn"
   },
   "outputs": [
    {
     "name": "stdout",
     "output_type": "stream",
     "text": [
      "Loading tokenizer...\n",
      "Tokenizer loaded\n",
      "Loading texts...\n",
      "Texts loaded\n",
      "Encoding texts...\n",
      "Texts encoded\n"
     ]
    }
   ],
   "source": [
    "#!g2.1\n",
    "train_ds = TinyStoriesDataset(data_file=\"../dataset/TinyStoriesV3-GPT4-train.txt\", sp_model_prefix=\"./src/tokenizer/bpe/bpe\")"
   ]
  },
  {
   "cell_type": "code",
   "execution_count": 205,
   "metadata": {
    "cellId": "obkea9yko9lmae7v9sj7cl"
   },
   "outputs": [
    {
     "name": "stdout",
     "output_type": "stream",
     "text": [
      "Loading tokenizer...\n",
      "Tokenizer loaded\n",
      "Loading texts...\n",
      "Texts loaded\n",
      "Encoding texts...\n",
      "Texts encoded\n"
     ]
    }
   ],
   "source": [
    "#!g2.1\n",
    "val_ds = TinyStoriesDataset(data_file=\"../dataset/TinyStoriesV3-GPT4-valid.txt\", sp_model_prefix=\"./src/tokenizer/bpe/bpe\")"
   ]
  },
  {
   "cell_type": "code",
   "execution_count": 206,
   "metadata": {
    "cellId": "r3lmnhu4i9q31ht3z325u3"
   },
   "outputs": [],
   "source": [
    "#!g2.1\n",
    "from torch.utils.data import DataLoader"
   ]
  },
  {
   "cell_type": "code",
   "execution_count": 224,
   "metadata": {
    "cellId": "atn7fezkly86om3x63qhwb"
   },
   "outputs": [],
   "source": [
    "#!g2.1\n",
    "train_loader = DataLoader(train_ds, batch_size=512, shuffle=True)"
   ]
  },
  {
   "cell_type": "code",
   "execution_count": 208,
   "metadata": {
    "cellId": "90cgbzyqnavsjj4cnhr3"
   },
   "outputs": [],
   "source": [
    "#!g2.1\n",
    "val_loader = DataLoader(val_ds, batch_size=16, shuffle=False)"
   ]
  },
  {
   "cell_type": "code",
   "execution_count": 198,
   "metadata": {
    "cellId": "aslp0nebnyo7u52bzgplq"
   },
   "outputs": [],
   "source": [
    "#!g2.1\n",
    "import gc\n",
    "import torch\n",
    "\n",
    "gc.collect()\n",
    "torch.cuda.empty_cache()\n",
    "\n",
    "for p in model.parameters():\n",
    "    if p.grad is not None:\n",
    "        del p.grad\n",
    "        torch.cuda.empty_cache()"
   ]
  },
  {
   "cell_type": "code",
   "execution_count": 209,
   "metadata": {
    "cellId": "p13diga3bgx6i5bqvdum8"
   },
   "outputs": [],
   "source": [
    "#!g2.1\n",
    "model = LLAMA(num_layers=8, embed_dim=512, num_heads=8, vocab_size=train_ds.vocab_size, ff_dim=2048, dropout=0.1)"
   ]
  },
  {
   "cell_type": "code",
   "execution_count": 210,
   "metadata": {
    "cellId": "zjguyr735ukmgkj7tm6v3"
   },
   "outputs": [],
   "source": [
    "#!g2.1\n",
    "model = model.to('cuda')"
   ]
  },
  {
   "cell_type": "code",
   "execution_count": 211,
   "metadata": {
    "cellId": "1i6fh673yqf95euodw1kyf"
   },
   "outputs": [],
   "source": [
    "#!g2.1\n",
    "from torch.optim import AdamW"
   ]
  },
  {
   "cell_type": "code",
   "execution_count": 212,
   "metadata": {
    "cellId": "k0v6v5klkdfl7sl4nw5c5p"
   },
   "outputs": [],
   "source": [
    "#!g2.1\n",
    "optimizer = AdamW(model.parameters(), lr=3e-4, weight_decay=1e-5)"
   ]
  },
  {
   "cell_type": "code",
   "execution_count": 213,
   "metadata": {
    "cellId": "vb8hgtggexjcrd12rvzn3"
   },
   "outputs": [],
   "source": [
    "#!g2.1\n",
    "device = 'cuda'"
   ]
  },
  {
   "cell_type": "code",
   "execution_count": 214,
   "metadata": {
    "cellId": "ix6hi358mti3czh7gibfdv"
   },
   "outputs": [],
   "source": [
    "#!g2.1\n",
    "from torch.optim.lr_scheduler import OneCycleLR"
   ]
  },
  {
   "cell_type": "code",
   "execution_count": 215,
   "metadata": {
    "cellId": "l738xm82x5rbsskyglssia"
   },
   "outputs": [],
   "source": [
    "#!g2.1\n",
    "scheduler = OneCycleLR(optimizer=optimizer, max_lr=3e-4, epochs=80, steps_per_epoch=2000, pct_start=0.2)"
   ]
  },
  {
   "cell_type": "code",
   "execution_count": 216,
   "metadata": {
    "cellId": "zd59h3i6oplzkoo87ps2cg"
   },
   "outputs": [],
   "source": [
    "#!g2.1\n",
    "import warnings\n",
    "warnings.filterwarnings(\"ignore\")"
   ]
  },
  {
   "cell_type": "code",
   "execution_count": 217,
   "metadata": {
    "cellId": "tzun9fe1trnrzg1ybuq2"
   },
   "outputs": [
    {
     "name": "stderr",
     "output_type": "stream",
     "text": [
      "\u001b[34m\u001b[1mwandb\u001b[0m: Currently logged in as: \u001b[33mliamstartips\u001b[0m (\u001b[33mwbot\u001b[0m). Use \u001b[1m`wandb login --relogin`\u001b[0m to force relogin\n",
      "\u001b[34m\u001b[1mwandb\u001b[0m: \u001b[33mWARNING\u001b[0m If you're specifying your api key in code, ensure this code is not shared publicly.\n",
      "\u001b[34m\u001b[1mwandb\u001b[0m: \u001b[33mWARNING\u001b[0m Consider setting the WANDB_API_KEY environment variable, or running `wandb login` from the command line.\n",
      "\u001b[34m\u001b[1mwandb\u001b[0m: Appending key for api.wandb.ai to your netrc file: /home/jupyter/.netrc\n",
      "\u001b[34m\u001b[1mwandb\u001b[0m: Tracking run with wandb version 0.16.0\n",
      "\u001b[34m\u001b[1mwandb\u001b[0m: Run data is saved locally in \u001b[35m\u001b[1m/home/jupyter/work/resources/llama/wandb/run-20231203_123900-rwybrt03\u001b[0m\n",
      "\u001b[34m\u001b[1mwandb\u001b[0m: Run \u001b[1m`wandb offline`\u001b[0m to turn off syncing.\n",
      "\u001b[34m\u001b[1mwandb\u001b[0m: Syncing run \u001b[33msolar-silence-10\u001b[0m\n",
      "\u001b[34m\u001b[1mwandb\u001b[0m: ⭐️ View project at \u001b[34m\u001b[4mhttps://wandb.ai/wbot/llama\u001b[0m\n",
      "\u001b[34m\u001b[1mwandb\u001b[0m: 🚀 View run at \u001b[34m\u001b[4mhttps://wandb.ai/wbot/llama/runs/rwybrt03\u001b[0m\n"
     ]
    },
    {
     "data": {
      "application/vnd.jupyter.widget-view+json": {
       "model_id": "84f06df630064419b3a29676b5f72a6b",
       "version_major": 2,
       "version_minor": 0
      },
      "text/plain": [
       "train:   0%|          | 0/2000 [00:00<?, ?it/s]"
      ]
     },
     "metadata": {},
     "output_type": "display_data"
    },
    {
     "name": "stdout",
     "output_type": "stream",
     "text": [
      "Epoch: 1, Train loss: 7.834\n",
      "Epoch: 1, Train loss: 5.973\n",
      "Epoch: 1, Train loss: 5.039\n",
      "Epoch: 1, Train loss: 4.635\n",
      "Epoch: 1, Train loss: 4.379\n",
      "Epoch: 1, Train loss: 4.188\n",
      "Epoch: 1, Train loss: 4.032\n",
      "Epoch: 1, Train loss: 3.909\n",
      "Epoch: 1, Train loss: 3.808\n",
      "Epoch: 1, Train loss: 3.715\n",
      "Epoch: 1, Train loss: 3.639\n",
      "Epoch: 1, Train loss: 3.568\n",
      "Epoch: 1, Train loss: 3.499\n",
      "Epoch: 1, Train loss: 3.435\n",
      "Epoch: 1, Train loss: 3.377\n",
      "Epoch: 1, Train loss: 3.328\n",
      "Epoch: 1, Train loss: 3.274\n",
      "Epoch: 1, Train loss: 3.228\n",
      "Epoch: 1, Train loss: 3.185\n",
      "Epoch: 1, Train loss: 3.144\n"
     ]
    },
    {
     "data": {
      "application/vnd.jupyter.widget-view+json": {
       "model_id": "f960fbe5fe1c403695f455d19969c558",
       "version_major": 2,
       "version_minor": 0
      },
      "text/plain": [
       "  0%|          | 0/1727 [00:00<?, ?it/s]"
      ]
     },
     "metadata": {},
     "output_type": "display_data"
    },
    {
     "name": "stdout",
     "output_type": "stream",
     "text": [
      "Saving checkpoint...\n",
      "Epoch: 1, Train loss: 3.117, Val loss: 2.979\n"
     ]
    },
    {
     "data": {
      "application/vnd.jupyter.widget-view+json": {
       "model_id": "c11c6b4b8bfb447b8f4f1e9d2f224ffb",
       "version_major": 2,
       "version_minor": 0
      },
      "text/plain": [
       "train:   0%|          | 0/2000 [00:00<?, ?it/s]"
      ]
     },
     "metadata": {},
     "output_type": "display_data"
    },
    {
     "name": "stdout",
     "output_type": "stream",
     "text": [
      "Epoch: 2, Train loss: 3.103\n",
      "Epoch: 2, Train loss: 3.064\n",
      "Epoch: 2, Train loss: 3.032\n",
      "Epoch: 2, Train loss: 2.998\n",
      "Epoch: 2, Train loss: 2.966\n",
      "Epoch: 2, Train loss: 2.937\n",
      "Epoch: 2, Train loss: 2.906\n",
      "Epoch: 2, Train loss: 2.879\n",
      "Epoch: 2, Train loss: 2.853\n",
      "Epoch: 2, Train loss: 2.821\n",
      "Epoch: 2, Train loss: 2.802\n",
      "Epoch: 2, Train loss: 2.775\n",
      "Epoch: 2, Train loss: 2.751\n",
      "Epoch: 2, Train loss: 2.728\n",
      "Epoch: 2, Train loss: 2.701\n",
      "Epoch: 2, Train loss: 2.676\n",
      "Epoch: 2, Train loss: 2.657\n",
      "Epoch: 2, Train loss: 2.636\n",
      "Epoch: 2, Train loss: 2.616\n",
      "Epoch: 2, Train loss: 2.597\n"
     ]
    },
    {
     "data": {
      "application/vnd.jupyter.widget-view+json": {
       "model_id": "65d6d2bf48fd4840bb4cb4c961f325ee",
       "version_major": 2,
       "version_minor": 0
      },
      "text/plain": [
       "  0%|          | 0/1727 [00:00<?, ?it/s]"
      ]
     },
     "metadata": {},
     "output_type": "display_data"
    },
    {
     "name": "stdout",
     "output_type": "stream",
     "text": [
      "Saving checkpoint...\n",
      "Epoch: 2, Train loss: 2.586, Val loss: 2.444\n"
     ]
    },
    {
     "data": {
      "application/vnd.jupyter.widget-view+json": {
       "model_id": "de54027c97e3478db140a75b2ac9ed0d",
       "version_major": 2,
       "version_minor": 0
      },
      "text/plain": [
       "train:   0%|          | 0/2000 [00:00<?, ?it/s]"
      ]
     },
     "metadata": {},
     "output_type": "display_data"
    },
    {
     "name": "stdout",
     "output_type": "stream",
     "text": [
      "Epoch: 3, Train loss: 2.575\n",
      "Epoch: 3, Train loss: 2.554\n",
      "Epoch: 3, Train loss: 2.538\n",
      "Epoch: 3, Train loss: 2.515\n",
      "Epoch: 3, Train loss: 2.494\n",
      "Epoch: 3, Train loss: 2.476\n",
      "Epoch: 3, Train loss: 2.458\n",
      "Epoch: 3, Train loss: 2.436\n",
      "Epoch: 3, Train loss: 2.419\n",
      "Epoch: 3, Train loss: 2.401\n",
      "Epoch: 3, Train loss: 2.382\n",
      "Epoch: 3, Train loss: 2.364\n",
      "Epoch: 3, Train loss: 2.351\n",
      "Epoch: 3, Train loss: 2.343\n",
      "Epoch: 3, Train loss: 2.316\n",
      "Epoch: 3, Train loss: 2.302\n",
      "Epoch: 3, Train loss: 2.284\n",
      "Epoch: 3, Train loss: 2.275\n",
      "Epoch: 3, Train loss: 2.254\n",
      "Epoch: 3, Train loss: 2.243\n"
     ]
    },
    {
     "data": {
      "application/vnd.jupyter.widget-view+json": {
       "model_id": "91811d71ae1c416a9420adff74120434",
       "version_major": 2,
       "version_minor": 0
      },
      "text/plain": [
       "  0%|          | 0/1727 [00:00<?, ?it/s]"
      ]
     },
     "metadata": {},
     "output_type": "display_data"
    },
    {
     "name": "stdout",
     "output_type": "stream",
     "text": [
      "Saving checkpoint...\n",
      "Epoch: 3, Train loss: 2.244, Val loss: 2.098\n"
     ]
    },
    {
     "data": {
      "application/vnd.jupyter.widget-view+json": {
       "model_id": "2eef4f28773f45afb43507c151b747fb",
       "version_major": 2,
       "version_minor": 0
      },
      "text/plain": [
       "train:   0%|          | 0/2000 [00:00<?, ?it/s]"
      ]
     },
     "metadata": {},
     "output_type": "display_data"
    },
    {
     "name": "stdout",
     "output_type": "stream",
     "text": [
      "Epoch: 4, Train loss: 2.227\n",
      "Epoch: 4, Train loss: 2.215\n",
      "Epoch: 4, Train loss: 2.197\n",
      "Epoch: 4, Train loss: 2.186\n",
      "Epoch: 4, Train loss: 2.179\n",
      "Epoch: 4, Train loss: 2.163\n",
      "Epoch: 4, Train loss: 2.151\n",
      "Epoch: 4, Train loss: 2.138\n",
      "Epoch: 4, Train loss: 2.124\n",
      "Epoch: 4, Train loss: 2.111\n",
      "Epoch: 4, Train loss: 2.098\n",
      "Epoch: 4, Train loss: 2.090\n",
      "Epoch: 4, Train loss: 2.083\n",
      "Epoch: 4, Train loss: 2.070\n",
      "Epoch: 4, Train loss: 2.057\n",
      "Epoch: 4, Train loss: 2.050\n",
      "Epoch: 4, Train loss: 2.032\n",
      "Epoch: 4, Train loss: 2.028\n",
      "Epoch: 4, Train loss: 2.016\n",
      "Epoch: 4, Train loss: 2.009\n"
     ]
    },
    {
     "data": {
      "application/vnd.jupyter.widget-view+json": {
       "model_id": "a8d4f03f19a84e2d89137c7150af3116",
       "version_major": 2,
       "version_minor": 0
      },
      "text/plain": [
       "  0%|          | 0/1727 [00:00<?, ?it/s]"
      ]
     },
     "metadata": {},
     "output_type": "display_data"
    },
    {
     "name": "stdout",
     "output_type": "stream",
     "text": [
      "Saving checkpoint...\n",
      "Epoch: 4, Train loss: 1.998, Val loss: 1.876\n"
     ]
    },
    {
     "data": {
      "application/vnd.jupyter.widget-view+json": {
       "model_id": "1b0a841269284910ac719f02a280812b",
       "version_major": 2,
       "version_minor": 0
      },
      "text/plain": [
       "train:   0%|          | 0/2000 [00:00<?, ?it/s]"
      ]
     },
     "metadata": {},
     "output_type": "display_data"
    },
    {
     "name": "stdout",
     "output_type": "stream",
     "text": [
      "Epoch: 5, Train loss: 1.990\n",
      "Epoch: 5, Train loss: 1.984\n",
      "Epoch: 5, Train loss: 1.974\n",
      "Epoch: 5, Train loss: 1.963\n",
      "Epoch: 5, Train loss: 1.959\n",
      "Epoch: 5, Train loss: 1.950\n",
      "Epoch: 5, Train loss: 1.939\n",
      "Epoch: 5, Train loss: 1.928\n",
      "Epoch: 5, Train loss: 1.919\n",
      "Epoch: 5, Train loss: 1.912\n",
      "Epoch: 5, Train loss: 1.903\n",
      "Epoch: 5, Train loss: 1.897\n",
      "Epoch: 5, Train loss: 1.890\n",
      "Epoch: 5, Train loss: 1.880\n",
      "Epoch: 5, Train loss: 1.871\n",
      "Epoch: 5, Train loss: 1.862\n",
      "Epoch: 5, Train loss: 1.857\n",
      "Epoch: 5, Train loss: 1.849\n",
      "Epoch: 5, Train loss: 1.842\n",
      "Epoch: 5, Train loss: 1.833\n"
     ]
    },
    {
     "data": {
      "application/vnd.jupyter.widget-view+json": {
       "model_id": "3e4c1e13638547b281579267231461a3",
       "version_major": 2,
       "version_minor": 0
      },
      "text/plain": [
       "  0%|          | 0/1727 [00:00<?, ?it/s]"
      ]
     },
     "metadata": {},
     "output_type": "display_data"
    },
    {
     "name": "stdout",
     "output_type": "stream",
     "text": [
      "Saving checkpoint...\n",
      "Epoch: 5, Train loss: 1.857, Val loss: 1.712\n"
     ]
    },
    {
     "data": {
      "application/vnd.jupyter.widget-view+json": {
       "model_id": "fb965fac2927429e8a88205b82eab647",
       "version_major": 2,
       "version_minor": 0
      },
      "text/plain": [
       "train:   0%|          | 0/2000 [00:00<?, ?it/s]"
      ]
     },
     "metadata": {},
     "output_type": "display_data"
    },
    {
     "ename": "KeyboardInterrupt",
     "evalue": "",
     "output_type": "error",
     "traceback": [
      "\u001b[0;31m---------------------------------------------------------------------------\u001b[0m",
      "\u001b[0;31mKeyboardInterrupt\u001b[0m                         Traceback (most recent call last)",
      "\u001b[0;32m<ipython-input-18-798accebae6e>\u001b[0m in \u001b[0;36m<module>\u001b[0;34m\u001b[0m\n\u001b[0;32m----> 1\u001b[0;31m \u001b[0mtrain\u001b[0m\u001b[0;34m(\u001b[0m\u001b[0;36m80\u001b[0m\u001b[0;34m,\u001b[0m \u001b[0mmodel\u001b[0m\u001b[0;34m,\u001b[0m \u001b[0mtrain_ds\u001b[0m\u001b[0;34m.\u001b[0m\u001b[0mpad_id\u001b[0m\u001b[0;34m,\u001b[0m \u001b[0moptimizer\u001b[0m\u001b[0;34m,\u001b[0m \u001b[0mtrain_loader\u001b[0m\u001b[0;34m,\u001b[0m \u001b[0mval_loader\u001b[0m\u001b[0;34m,\u001b[0m \u001b[0mdevice\u001b[0m\u001b[0;34m,\u001b[0m \u001b[0mtrain_ds\u001b[0m\u001b[0;34m,\u001b[0m \u001b[0mscheduler\u001b[0m\u001b[0;34m=\u001b[0m\u001b[0mscheduler\u001b[0m\u001b[0;34m,\u001b[0m \u001b[0mlen_epoch\u001b[0m\u001b[0;34m=\u001b[0m\u001b[0;36m2000\u001b[0m\u001b[0;34m,\u001b[0m \u001b[0mlog_step\u001b[0m\u001b[0;34m=\u001b[0m\u001b[0;36m100\u001b[0m\u001b[0;34m)\u001b[0m\u001b[0;34m\u001b[0m\u001b[0;34m\u001b[0m\u001b[0m\n\u001b[0m\u001b[1;32m      2\u001b[0m \u001b[0;31m#\u001b[0m\u001b[0;34m\u001b[0m\u001b[0;34m\u001b[0m\u001b[0m\n",
      "\u001b[0;32m~/work/resources/llama/src/train/train.py\u001b[0m in \u001b[0;36mtrain\u001b[0;34m(n_epochs, model, pad_idx, optimizer, train_loader, val_loader, device, dataset, scheduler, len_epoch, log_step)\u001b[0m\n\u001b[1;32m    103\u001b[0m                 \u001b[0mloss\u001b[0m \u001b[0;34m=\u001b[0m \u001b[0mloss_fn\u001b[0m\u001b[0;34m(\u001b[0m\u001b[0mlogits\u001b[0m\u001b[0;34m.\u001b[0m\u001b[0mreshape\u001b[0m\u001b[0;34m(\u001b[0m\u001b[0;34m-\u001b[0m\u001b[0;36m1\u001b[0m\u001b[0;34m,\u001b[0m \u001b[0mlogits\u001b[0m\u001b[0;34m.\u001b[0m\u001b[0mshape\u001b[0m\u001b[0;34m[\u001b[0m\u001b[0;34m-\u001b[0m\u001b[0;36m1\u001b[0m\u001b[0;34m]\u001b[0m\u001b[0;34m)\u001b[0m\u001b[0;34m,\u001b[0m \u001b[0mtgt_out\u001b[0m\u001b[0;34m.\u001b[0m\u001b[0mreshape\u001b[0m\u001b[0;34m(\u001b[0m\u001b[0;34m-\u001b[0m\u001b[0;36m1\u001b[0m\u001b[0;34m)\u001b[0m\u001b[0;34m)\u001b[0m\u001b[0;34m\u001b[0m\u001b[0;34m\u001b[0m\u001b[0m\n\u001b[1;32m    104\u001b[0m \u001b[0;34m\u001b[0m\u001b[0m\n\u001b[0;32m--> 105\u001b[0;31m             \u001b[0mloss\u001b[0m\u001b[0;34m.\u001b[0m\u001b[0mbackward\u001b[0m\u001b[0;34m(\u001b[0m\u001b[0;34m)\u001b[0m\u001b[0;34m\u001b[0m\u001b[0;34m\u001b[0m\u001b[0m\n\u001b[0m\u001b[1;32m    106\u001b[0m \u001b[0;34m\u001b[0m\u001b[0m\n\u001b[1;32m    107\u001b[0m             \u001b[0moptimizer\u001b[0m\u001b[0;34m.\u001b[0m\u001b[0mstep\u001b[0m\u001b[0;34m(\u001b[0m\u001b[0;34m)\u001b[0m\u001b[0;34m\u001b[0m\u001b[0;34m\u001b[0m\u001b[0m\n",
      "\u001b[0;32m/usr/local/lib/python3.10/dist-packages/torch/_tensor.py\u001b[0m in \u001b[0;36mbackward\u001b[0;34m(self, gradient, retain_graph, create_graph, inputs)\u001b[0m\n\u001b[1;32m    485\u001b[0m                 \u001b[0minputs\u001b[0m\u001b[0;34m=\u001b[0m\u001b[0minputs\u001b[0m\u001b[0;34m,\u001b[0m\u001b[0;34m\u001b[0m\u001b[0;34m\u001b[0m\u001b[0m\n\u001b[1;32m    486\u001b[0m             )\n\u001b[0;32m--> 487\u001b[0;31m         torch.autograd.backward(\n\u001b[0m\u001b[1;32m    488\u001b[0m             \u001b[0mself\u001b[0m\u001b[0;34m,\u001b[0m \u001b[0mgradient\u001b[0m\u001b[0;34m,\u001b[0m \u001b[0mretain_graph\u001b[0m\u001b[0;34m,\u001b[0m \u001b[0mcreate_graph\u001b[0m\u001b[0;34m,\u001b[0m \u001b[0minputs\u001b[0m\u001b[0;34m=\u001b[0m\u001b[0minputs\u001b[0m\u001b[0;34m\u001b[0m\u001b[0;34m\u001b[0m\u001b[0m\n\u001b[1;32m    489\u001b[0m         )\n",
      "\u001b[0;32m/usr/local/lib/python3.10/dist-packages/torch/autograd/__init__.py\u001b[0m in \u001b[0;36mbackward\u001b[0;34m(tensors, grad_tensors, retain_graph, create_graph, grad_variables, inputs)\u001b[0m\n\u001b[1;32m    198\u001b[0m     \u001b[0;31m# some Python versions print out the first line of a multi-line function\u001b[0m\u001b[0;34m\u001b[0m\u001b[0;34m\u001b[0m\u001b[0m\n\u001b[1;32m    199\u001b[0m     \u001b[0;31m# calls in the traceback and some print out the last line\u001b[0m\u001b[0;34m\u001b[0m\u001b[0;34m\u001b[0m\u001b[0m\n\u001b[0;32m--> 200\u001b[0;31m     Variable._execution_engine.run_backward(  # Calls into the C++ engine to run the backward pass\n\u001b[0m\u001b[1;32m    201\u001b[0m         \u001b[0mtensors\u001b[0m\u001b[0;34m,\u001b[0m \u001b[0mgrad_tensors_\u001b[0m\u001b[0;34m,\u001b[0m \u001b[0mretain_graph\u001b[0m\u001b[0;34m,\u001b[0m \u001b[0mcreate_graph\u001b[0m\u001b[0;34m,\u001b[0m \u001b[0minputs\u001b[0m\u001b[0;34m,\u001b[0m\u001b[0;34m\u001b[0m\u001b[0;34m\u001b[0m\u001b[0m\n\u001b[1;32m    202\u001b[0m         allow_unreachable=True, accumulate_grad=True)  # Calls into the C++ engine to run the backward pass\n",
      "\u001b[0;31mKeyboardInterrupt\u001b[0m: "
     ]
    }
   ],
   "source": [
    "#!g2.1\n",
    "train(80, model, train_ds.pad_id, optimizer, train_loader, val_loader, device, train_ds, scheduler=scheduler, len_epoch=2000, log_step=100)"
   ]
  },
  {
   "cell_type": "code",
   "execution_count": null,
   "metadata": {
    "cellId": "o4e149nmyofxrymsndy5qm",
    "execution_id": "7be94567-e07b-448f-92f9-2e325467c09e"
   },
   "outputs": [
    {
     "name": "stderr",
     "output_type": "stream",
     "text": [
      "\u001b[34m\u001b[1mwandb\u001b[0m: \u001b[33mWARNING\u001b[0m Calling wandb.login() after wandb.init() has no effect.\n"
     ]
    },
    {
     "data": {
      "application/vnd.jupyter.widget-view+json": {
       "model_id": "b6e8cb68b95d4502b9c5e1bcf1600727",
       "version_major": 2,
       "version_minor": 0
      },
      "text/plain": [
       "train:   0%|          | 0/2000 [00:00<?, ?it/s]"
      ]
     },
     "metadata": {},
     "output_type": "display_data"
    },
    {
     "name": "stdout",
     "output_type": "stream",
     "text": [
      "Epoch: 1, Train loss: 1.809\n",
      "Epoch: 1, Train loss: 1.801\n",
      "Epoch: 1, Train loss: 1.792\n",
      "Epoch: 1, Train loss: 1.786\n",
      "Epoch: 1, Train loss: 1.785\n",
      "Epoch: 1, Train loss: 1.773\n",
      "Epoch: 1, Train loss: 1.768\n",
      "Epoch: 1, Train loss: 1.763\n",
      "Epoch: 1, Train loss: 1.755\n",
      "Epoch: 1, Train loss: 1.755\n",
      "Epoch: 1, Train loss: 1.746\n",
      "Epoch: 1, Train loss: 1.739\n",
      "Epoch: 1, Train loss: 1.730\n",
      "Epoch: 1, Train loss: 1.728\n",
      "Epoch: 1, Train loss: 1.718\n",
      "Epoch: 1, Train loss: 1.713\n",
      "Epoch: 1, Train loss: 1.711\n",
      "Epoch: 1, Train loss: 1.706\n",
      "Epoch: 1, Train loss: 1.699\n",
      "Epoch: 1, Train loss: 1.694\n"
     ]
    },
    {
     "data": {
      "application/vnd.jupyter.widget-view+json": {
       "model_id": "00379b3b348a4349b47846b5e0827dc9",
       "version_major": 2,
       "version_minor": 0
      },
      "text/plain": [
       "  0%|          | 0/1727 [00:00<?, ?it/s]"
      ]
     },
     "metadata": {},
     "output_type": "display_data"
    },
    {
     "name": "stdout",
     "output_type": "stream",
     "text": [
      "Saving checkpoint...\n",
      "Epoch: 1, Train loss: 1.724, Val loss: 1.587\n"
     ]
    },
    {
     "data": {
      "application/vnd.jupyter.widget-view+json": {
       "model_id": "2b80c7f880dc413c860cda27cc1d419f",
       "version_major": 2,
       "version_minor": 0
      },
      "text/plain": [
       "train:   0%|          | 0/2000 [00:00<?, ?it/s]"
      ]
     },
     "metadata": {},
     "output_type": "display_data"
    },
    {
     "name": "stdout",
     "output_type": "stream",
     "text": [
      "Epoch: 2, Train loss: 1.686\n",
      "Epoch: 2, Train loss: 1.682\n",
      "Epoch: 2, Train loss: 1.676\n",
      "Epoch: 2, Train loss: 1.678\n",
      "Epoch: 2, Train loss: 1.673\n",
      "Epoch: 2, Train loss: 1.663\n",
      "Epoch: 2, Train loss: 1.656\n",
      "Epoch: 2, Train loss: 1.654\n",
      "Epoch: 2, Train loss: 1.650\n",
      "Epoch: 2, Train loss: 1.642\n",
      "Epoch: 2, Train loss: 1.639\n",
      "Epoch: 2, Train loss: 1.632\n",
      "Epoch: 2, Train loss: 1.632\n",
      "Epoch: 2, Train loss: 1.627\n",
      "Epoch: 2, Train loss: 1.625\n",
      "Epoch: 2, Train loss: 1.616\n",
      "Epoch: 2, Train loss: 1.612\n",
      "Epoch: 2, Train loss: 1.608\n",
      "Epoch: 2, Train loss: 1.605\n",
      "Epoch: 2, Train loss: 1.599\n"
     ]
    },
    {
     "data": {
      "application/vnd.jupyter.widget-view+json": {
       "model_id": "4c44fedb2e3a46539bfb7fd89dbf161b",
       "version_major": 2,
       "version_minor": 0
      },
      "text/plain": [
       "  0%|          | 0/1727 [00:00<?, ?it/s]"
      ]
     },
     "metadata": {},
     "output_type": "display_data"
    },
    {
     "name": "stdout",
     "output_type": "stream",
     "text": [
      "Saving checkpoint...\n",
      "Epoch: 2, Train loss: 1.601, Val loss: 1.496\n"
     ]
    },
    {
     "data": {
      "application/vnd.jupyter.widget-view+json": {
       "model_id": "46775126fdd84c26ad4e63ab235ca982",
       "version_major": 2,
       "version_minor": 0
      },
      "text/plain": [
       "train:   0%|          | 0/2000 [00:00<?, ?it/s]"
      ]
     },
     "metadata": {},
     "output_type": "display_data"
    },
    {
     "name": "stdout",
     "output_type": "stream",
     "text": [
      "Epoch: 3, Train loss: 1.599\n",
      "Epoch: 3, Train loss: 1.590\n",
      "Epoch: 3, Train loss: 1.589\n",
      "Epoch: 3, Train loss: 1.581\n",
      "Epoch: 3, Train loss: 1.582\n",
      "Epoch: 3, Train loss: 1.578\n",
      "Epoch: 3, Train loss: 1.572\n",
      "Epoch: 3, Train loss: 1.572\n",
      "Epoch: 3, Train loss: 1.567\n",
      "Epoch: 3, Train loss: 1.568\n",
      "Epoch: 3, Train loss: 1.561\n",
      "Epoch: 3, Train loss: 1.554\n",
      "Epoch: 3, Train loss: 1.553\n",
      "Epoch: 3, Train loss: 1.563\n",
      "Epoch: 3, Train loss: 1.542\n",
      "Epoch: 3, Train loss: 1.538\n",
      "Epoch: 3, Train loss: 1.537\n",
      "Epoch: 3, Train loss: 1.536\n",
      "Epoch: 3, Train loss: 1.528\n",
      "Epoch: 3, Train loss: 1.525\n"
     ]
    },
    {
     "data": {
      "application/vnd.jupyter.widget-view+json": {
       "model_id": "40f7bf6dde3641c2b6eb0795c9b0cb04",
       "version_major": 2,
       "version_minor": 0
      },
      "text/plain": [
       "  0%|          | 0/1727 [00:00<?, ?it/s]"
      ]
     },
     "metadata": {},
     "output_type": "display_data"
    },
    {
     "name": "stdout",
     "output_type": "stream",
     "text": [
      "Saving checkpoint...\n",
      "Epoch: 3, Train loss: 1.528, Val loss: 1.432\n"
     ]
    },
    {
     "data": {
      "application/vnd.jupyter.widget-view+json": {
       "model_id": "4427be58695e407781e7863c44e1124d",
       "version_major": 2,
       "version_minor": 0
      },
      "text/plain": [
       "train:   0%|          | 0/2000 [00:00<?, ?it/s]"
      ]
     },
     "metadata": {},
     "output_type": "display_data"
    },
    {
     "name": "stdout",
     "output_type": "stream",
     "text": [
      "Epoch: 4, Train loss: 1.520\n",
      "Epoch: 4, Train loss: 1.518\n",
      "Epoch: 4, Train loss: 1.513\n",
      "Epoch: 4, Train loss: 1.515\n",
      "Epoch: 4, Train loss: 1.509\n",
      "Epoch: 4, Train loss: 1.507\n",
      "Epoch: 4, Train loss: 1.506\n",
      "Epoch: 4, Train loss: 1.503\n",
      "Epoch: 4, Train loss: 1.500\n",
      "Epoch: 4, Train loss: 1.497\n",
      "Epoch: 4, Train loss: 1.493\n",
      "Epoch: 4, Train loss: 1.492\n",
      "Epoch: 4, Train loss: 1.488\n",
      "Epoch: 4, Train loss: 1.487\n",
      "Epoch: 4, Train loss: 1.485\n",
      "Epoch: 4, Train loss: 1.481\n",
      "Epoch: 4, Train loss: 1.480\n",
      "Epoch: 4, Train loss: 1.477\n",
      "Epoch: 4, Train loss: 1.474\n",
      "Epoch: 4, Train loss: 1.472\n"
     ]
    },
    {
     "data": {
      "application/vnd.jupyter.widget-view+json": {
       "model_id": "4b47802637b840418085a0c41781435b",
       "version_major": 2,
       "version_minor": 0
      },
      "text/plain": [
       "  0%|          | 0/1727 [00:00<?, ?it/s]"
      ]
     },
     "metadata": {},
     "output_type": "display_data"
    },
    {
     "name": "stdout",
     "output_type": "stream",
     "text": [
      "Saving checkpoint...\n",
      "Epoch: 4, Train loss: 1.459, Val loss: 1.380\n"
     ]
    },
    {
     "data": {
      "application/vnd.jupyter.widget-view+json": {
       "model_id": "c01cfcd1d9bd48b1b3fc0ce47aeb635b",
       "version_major": 2,
       "version_minor": 0
      },
      "text/plain": [
       "train:   0%|          | 0/2000 [00:00<?, ?it/s]"
      ]
     },
     "metadata": {},
     "output_type": "display_data"
    },
    {
     "name": "stdout",
     "output_type": "stream",
     "text": [
      "Epoch: 5, Train loss: 1.469\n",
      "Epoch: 5, Train loss: 1.466\n",
      "Epoch: 5, Train loss: 1.463\n",
      "Epoch: 5, Train loss: 1.464\n",
      "Epoch: 5, Train loss: 1.459\n",
      "Epoch: 5, Train loss: 1.456\n",
      "Epoch: 5, Train loss: 1.458\n",
      "Epoch: 5, Train loss: 1.455\n",
      "Epoch: 5, Train loss: 1.447\n",
      "Epoch: 5, Train loss: 1.442\n",
      "Epoch: 5, Train loss: 1.448\n",
      "Epoch: 5, Train loss: 1.446\n",
      "Epoch: 5, Train loss: 1.442\n",
      "Epoch: 5, Train loss: 1.441\n",
      "Epoch: 5, Train loss: 1.442\n",
      "Epoch: 5, Train loss: 1.435\n",
      "Epoch: 5, Train loss: 1.434\n",
      "Epoch: 5, Train loss: 1.432\n",
      "Epoch: 5, Train loss: 1.432\n",
      "Epoch: 5, Train loss: 1.422\n"
     ]
    },
    {
     "data": {
      "application/vnd.jupyter.widget-view+json": {
       "model_id": "b411d81270554c1f9c0a41004885c583",
       "version_major": 2,
       "version_minor": 0
      },
      "text/plain": [
       "  0%|          | 0/1727 [00:00<?, ?it/s]"
      ]
     },
     "metadata": {},
     "output_type": "display_data"
    },
    {
     "name": "stdout",
     "output_type": "stream",
     "text": [
      "Saving checkpoint...\n",
      "Epoch: 5, Train loss: 1.434, Val loss: 1.338\n"
     ]
    },
    {
     "data": {
      "application/vnd.jupyter.widget-view+json": {
       "model_id": "078c2259059f4392ba5878614d632f60",
       "version_major": 2,
       "version_minor": 0
      },
      "text/plain": [
       "train:   0%|          | 0/2000 [00:00<?, ?it/s]"
      ]
     },
     "metadata": {},
     "output_type": "display_data"
    },
    {
     "name": "stdout",
     "output_type": "stream",
     "text": [
      "Epoch: 6, Train loss: 1.426\n",
      "Epoch: 6, Train loss: 1.422\n",
      "Epoch: 6, Train loss: 1.421\n",
      "Epoch: 6, Train loss: 1.418\n",
      "Epoch: 6, Train loss: 1.418\n",
      "Epoch: 6, Train loss: 1.417\n",
      "Epoch: 6, Train loss: 1.440\n",
      "Epoch: 6, Train loss: 1.412\n",
      "Epoch: 6, Train loss: 1.405\n",
      "Epoch: 6, Train loss: 1.404\n",
      "Epoch: 6, Train loss: 1.400\n",
      "Epoch: 6, Train loss: 1.400\n",
      "Epoch: 6, Train loss: 1.400\n",
      "Epoch: 6, Train loss: 1.399\n",
      "Epoch: 6, Train loss: 1.395\n",
      "Epoch: 6, Train loss: 1.398\n",
      "Epoch: 6, Train loss: 1.391\n",
      "Epoch: 6, Train loss: 1.391\n",
      "Epoch: 6, Train loss: 1.391\n",
      "Epoch: 6, Train loss: 1.387\n"
     ]
    },
    {
     "data": {
      "application/vnd.jupyter.widget-view+json": {
       "model_id": "15061c6cdadc48db9254dc770a70f314",
       "version_major": 2,
       "version_minor": 0
      },
      "text/plain": [
       "  0%|          | 0/1727 [00:00<?, ?it/s]"
      ]
     },
     "metadata": {},
     "output_type": "display_data"
    },
    {
     "name": "stdout",
     "output_type": "stream",
     "text": [
      "Saving checkpoint...\n",
      "Epoch: 6, Train loss: 1.358, Val loss: 1.308\n"
     ]
    },
    {
     "data": {
      "application/vnd.jupyter.widget-view+json": {
       "model_id": "d72d779246c844c480138fee74f0fcf8",
       "version_major": 2,
       "version_minor": 0
      },
      "text/plain": [
       "train:   0%|          | 0/2000 [00:00<?, ?it/s]"
      ]
     },
     "metadata": {},
     "output_type": "display_data"
    },
    {
     "name": "stdout",
     "output_type": "stream",
     "text": [
      "Epoch: 7, Train loss: 1.388\n",
      "Epoch: 7, Train loss: 1.387\n",
      "Epoch: 7, Train loss: 1.387\n",
      "Epoch: 7, Train loss: 1.384\n",
      "Epoch: 7, Train loss: 1.379\n",
      "Epoch: 7, Train loss: 1.382\n",
      "Epoch: 7, Train loss: 1.380\n",
      "Epoch: 7, Train loss: 1.380\n",
      "Epoch: 7, Train loss: 1.372\n",
      "Epoch: 7, Train loss: 1.376\n",
      "Epoch: 7, Train loss: 1.376\n",
      "Epoch: 7, Train loss: 1.377\n",
      "Epoch: 7, Train loss: 1.373\n",
      "Epoch: 7, Train loss: 1.373\n",
      "Epoch: 7, Train loss: 1.370\n",
      "Epoch: 7, Train loss: 1.369\n",
      "Epoch: 7, Train loss: 1.367\n",
      "Epoch: 7, Train loss: 1.366\n",
      "Epoch: 7, Train loss: 1.367\n",
      "Epoch: 7, Train loss: 1.365\n"
     ]
    },
    {
     "data": {
      "application/vnd.jupyter.widget-view+json": {
       "model_id": "a9b9a35e4c404fa092f7790215ad2346",
       "version_major": 2,
       "version_minor": 0
      },
      "text/plain": [
       "  0%|          | 0/1727 [00:00<?, ?it/s]"
      ]
     },
     "metadata": {},
     "output_type": "display_data"
    },
    {
     "name": "stdout",
     "output_type": "stream",
     "text": [
      "Saving checkpoint...\n",
      "Epoch: 7, Train loss: 1.365, Val loss: 1.280\n"
     ]
    },
    {
     "data": {
      "application/vnd.jupyter.widget-view+json": {
       "model_id": "00645541b7e54ed38e7544468a1c40cf",
       "version_major": 2,
       "version_minor": 0
      },
      "text/plain": [
       "train:   0%|          | 0/2000 [00:00<?, ?it/s]"
      ]
     },
     "metadata": {},
     "output_type": "display_data"
    },
    {
     "name": "stdout",
     "output_type": "stream",
     "text": [
      "Epoch: 8, Train loss: 1.361\n",
      "Epoch: 8, Train loss: 1.359\n",
      "Epoch: 8, Train loss: 1.356\n",
      "Epoch: 8, Train loss: 1.356\n",
      "Epoch: 8, Train loss: 1.356\n",
      "Epoch: 8, Train loss: 1.355\n",
      "Epoch: 8, Train loss: 1.355\n",
      "Epoch: 8, Train loss: 1.352\n",
      "Epoch: 8, Train loss: 1.352\n",
      "Epoch: 8, Train loss: 1.352\n",
      "Epoch: 8, Train loss: 1.351\n",
      "Epoch: 8, Train loss: 1.350\n",
      "Epoch: 8, Train loss: 1.349\n",
      "Epoch: 8, Train loss: 1.349\n",
      "Epoch: 8, Train loss: 1.346\n",
      "Epoch: 8, Train loss: 1.346\n",
      "Epoch: 8, Train loss: 1.343\n",
      "Epoch: 8, Train loss: 1.346\n",
      "Epoch: 8, Train loss: 1.343\n",
      "Epoch: 8, Train loss: 1.374\n"
     ]
    },
    {
     "data": {
      "application/vnd.jupyter.widget-view+json": {
       "model_id": "88e2442c1e784f82800adf0f08dff9d3",
       "version_major": 2,
       "version_minor": 0
      },
      "text/plain": [
       "  0%|          | 0/1727 [00:00<?, ?it/s]"
      ]
     },
     "metadata": {},
     "output_type": "display_data"
    },
    {
     "name": "stdout",
     "output_type": "stream",
     "text": [
      "Saving checkpoint...\n",
      "Epoch: 8, Train loss: 1.358, Val loss: 1.267\n"
     ]
    },
    {
     "data": {
      "application/vnd.jupyter.widget-view+json": {
       "model_id": "9179e07ee4734c1fad460d7cb59c6227",
       "version_major": 2,
       "version_minor": 0
      },
      "text/plain": [
       "train:   0%|          | 0/2000 [00:00<?, ?it/s]"
      ]
     },
     "metadata": {},
     "output_type": "display_data"
    },
    {
     "name": "stdout",
     "output_type": "stream",
     "text": [
      "Epoch: 9, Train loss: 1.336\n",
      "Epoch: 9, Train loss: 1.334\n",
      "Epoch: 9, Train loss: 1.331\n",
      "Epoch: 9, Train loss: 1.334\n",
      "Epoch: 9, Train loss: 1.332\n",
      "Epoch: 9, Train loss: 1.332\n",
      "Epoch: 9, Train loss: 1.327\n",
      "Epoch: 9, Train loss: 1.326\n",
      "Epoch: 9, Train loss: 1.327\n",
      "Epoch: 9, Train loss: 1.329\n",
      "Epoch: 9, Train loss: 1.324\n",
      "Epoch: 9, Train loss: 1.326\n",
      "Epoch: 9, Train loss: 1.322\n",
      "Epoch: 9, Train loss: 1.321\n",
      "Epoch: 9, Train loss: 1.323\n",
      "Epoch: 9, Train loss: 1.320\n",
      "Epoch: 9, Train loss: 1.325\n",
      "Epoch: 9, Train loss: 1.319\n",
      "Epoch: 9, Train loss: 1.319\n",
      "Epoch: 9, Train loss: 1.319\n"
     ]
    },
    {
     "data": {
      "application/vnd.jupyter.widget-view+json": {
       "model_id": "3e86ff6c842b436399780c8cd471fccc",
       "version_major": 2,
       "version_minor": 0
      },
      "text/plain": [
       "  0%|          | 0/1727 [00:00<?, ?it/s]"
      ]
     },
     "metadata": {},
     "output_type": "display_data"
    },
    {
     "name": "stdout",
     "output_type": "stream",
     "text": [
      "Saving checkpoint...\n",
      "Epoch: 9, Train loss: 1.341, Val loss: 1.240\n"
     ]
    },
    {
     "data": {
      "application/vnd.jupyter.widget-view+json": {
       "model_id": "dcfc97cd8a9045f89607f310a27587a1",
       "version_major": 2,
       "version_minor": 0
      },
      "text/plain": [
       "train:   0%|          | 0/2000 [00:00<?, ?it/s]"
      ]
     },
     "metadata": {},
     "output_type": "display_data"
    },
    {
     "name": "stdout",
     "output_type": "stream",
     "text": [
      "Epoch: 10, Train loss: 1.317\n",
      "Epoch: 10, Train loss: 1.319\n",
      "Epoch: 10, Train loss: 1.315\n",
      "Epoch: 10, Train loss: 1.317\n",
      "Epoch: 10, Train loss: 1.317\n",
      "Epoch: 10, Train loss: 1.315\n",
      "Epoch: 10, Train loss: 1.311\n",
      "Epoch: 10, Train loss: 1.311\n",
      "Epoch: 10, Train loss: 1.307\n",
      "Epoch: 10, Train loss: 1.311\n",
      "Epoch: 10, Train loss: 1.311\n",
      "Epoch: 10, Train loss: 1.308\n",
      "Epoch: 10, Train loss: 1.307\n",
      "Epoch: 10, Train loss: 1.308\n",
      "Epoch: 10, Train loss: 1.306\n",
      "Epoch: 10, Train loss: 1.307\n",
      "Epoch: 10, Train loss: 1.305\n",
      "Epoch: 10, Train loss: 1.306\n",
      "Epoch: 10, Train loss: 1.305\n",
      "Epoch: 10, Train loss: 1.302\n"
     ]
    },
    {
     "data": {
      "application/vnd.jupyter.widget-view+json": {
       "model_id": "a05618f508764486bbea63ca575f4b47",
       "version_major": 2,
       "version_minor": 0
      },
      "text/plain": [
       "  0%|          | 0/1727 [00:00<?, ?it/s]"
      ]
     },
     "metadata": {},
     "output_type": "display_data"
    },
    {
     "name": "stdout",
     "output_type": "stream",
     "text": [
      "Saving checkpoint...\n",
      "Epoch: 10, Train loss: 1.296, Val loss: 1.225\n"
     ]
    },
    {
     "data": {
      "application/vnd.jupyter.widget-view+json": {
       "model_id": "d31b5072f76141f68274570db7cc407d",
       "version_major": 2,
       "version_minor": 0
      },
      "text/plain": [
       "train:   0%|          | 0/2000 [00:00<?, ?it/s]"
      ]
     },
     "metadata": {},
     "output_type": "display_data"
    },
    {
     "name": "stdout",
     "output_type": "stream",
     "text": [
      "Epoch: 11, Train loss: 1.301\n",
      "Epoch: 11, Train loss: 1.302\n",
      "Epoch: 11, Train loss: 1.303\n",
      "Epoch: 11, Train loss: 1.300\n",
      "Epoch: 11, Train loss: 1.298\n",
      "Epoch: 11, Train loss: 1.301\n",
      "Epoch: 11, Train loss: 1.296\n",
      "Epoch: 11, Train loss: 1.298\n",
      "Epoch: 11, Train loss: 1.296\n",
      "Epoch: 11, Train loss: 1.296\n",
      "Epoch: 11, Train loss: 1.296\n",
      "Epoch: 11, Train loss: 1.293\n",
      "Epoch: 11, Train loss: 1.332\n",
      "Epoch: 11, Train loss: 1.293\n",
      "Epoch: 11, Train loss: 1.287\n",
      "Epoch: 11, Train loss: 1.286\n",
      "Epoch: 11, Train loss: 1.287\n",
      "Epoch: 11, Train loss: 1.285\n",
      "Epoch: 11, Train loss: 1.283\n",
      "Epoch: 11, Train loss: 1.283\n"
     ]
    },
    {
     "data": {
      "application/vnd.jupyter.widget-view+json": {
       "model_id": "e6aef7985e1f445b9379f72cc6397f71",
       "version_major": 2,
       "version_minor": 0
      },
      "text/plain": [
       "  0%|          | 0/1727 [00:00<?, ?it/s]"
      ]
     },
     "metadata": {},
     "output_type": "display_data"
    },
    {
     "name": "stdout",
     "output_type": "stream",
     "text": [
      "Saving checkpoint...\n",
      "Epoch: 11, Train loss: 1.298, Val loss: 1.212\n"
     ]
    },
    {
     "data": {
      "application/vnd.jupyter.widget-view+json": {
       "model_id": "07a6e5313728410987ca82fc8249d1b9",
       "version_major": 2,
       "version_minor": 0
      },
      "text/plain": [
       "train:   0%|          | 0/2000 [00:00<?, ?it/s]"
      ]
     },
     "metadata": {},
     "output_type": "display_data"
    },
    {
     "name": "stdout",
     "output_type": "stream",
     "text": [
      "Epoch: 12, Train loss: 1.283\n",
      "Epoch: 12, Train loss: 1.285\n",
      "Epoch: 12, Train loss: 1.283\n",
      "Epoch: 12, Train loss: 1.278\n",
      "Epoch: 12, Train loss: 1.280\n",
      "Epoch: 12, Train loss: 1.280\n",
      "Epoch: 12, Train loss: 1.281\n",
      "Epoch: 12, Train loss: 1.278\n",
      "Epoch: 12, Train loss: 1.283\n",
      "Epoch: 12, Train loss: 1.280\n",
      "Epoch: 12, Train loss: 1.277\n",
      "Epoch: 12, Train loss: 1.278\n",
      "Epoch: 12, Train loss: 1.276\n",
      "Epoch: 12, Train loss: 1.276\n",
      "Epoch: 12, Train loss: 1.277\n",
      "Epoch: 12, Train loss: 1.275\n",
      "Epoch: 12, Train loss: 1.274\n",
      "Epoch: 12, Train loss: 1.275\n",
      "Epoch: 12, Train loss: 1.273\n",
      "Epoch: 12, Train loss: 1.269\n"
     ]
    },
    {
     "data": {
      "application/vnd.jupyter.widget-view+json": {
       "model_id": "c16be8145073489bb4a95c9749f186c6",
       "version_major": 2,
       "version_minor": 0
      },
      "text/plain": [
       "  0%|          | 0/1727 [00:00<?, ?it/s]"
      ]
     },
     "metadata": {},
     "output_type": "display_data"
    },
    {
     "name": "stdout",
     "output_type": "stream",
     "text": [
      "Saving checkpoint...\n",
      "Epoch: 12, Train loss: 1.254, Val loss: 1.201\n"
     ]
    },
    {
     "data": {
      "application/vnd.jupyter.widget-view+json": {
       "model_id": "f010d66ad5a84e468d6cf59843360532",
       "version_major": 2,
       "version_minor": 0
      },
      "text/plain": [
       "train:   0%|          | 0/2000 [00:00<?, ?it/s]"
      ]
     },
     "metadata": {},
     "output_type": "display_data"
    },
    {
     "name": "stdout",
     "output_type": "stream",
     "text": [
      "Epoch: 13, Train loss: 1.274\n",
      "Epoch: 13, Train loss: 1.274\n",
      "Epoch: 13, Train loss: 1.274\n",
      "Epoch: 13, Train loss: 1.271\n",
      "Epoch: 13, Train loss: 1.273\n",
      "Epoch: 13, Train loss: 1.271\n",
      "Epoch: 13, Train loss: 1.271\n",
      "Epoch: 13, Train loss: 1.268\n",
      "Epoch: 13, Train loss: 1.266\n",
      "Epoch: 13, Train loss: 1.269\n",
      "Epoch: 13, Train loss: 1.267\n",
      "Epoch: 13, Train loss: 1.266\n",
      "Epoch: 13, Train loss: 1.267\n",
      "Epoch: 13, Train loss: 1.268\n",
      "Epoch: 13, Train loss: 1.270\n",
      "Epoch: 13, Train loss: 1.266\n",
      "Epoch: 13, Train loss: 1.264\n",
      "Epoch: 13, Train loss: 1.267\n",
      "Epoch: 13, Train loss: 1.265\n",
      "Epoch: 13, Train loss: 1.267\n"
     ]
    },
    {
     "data": {
      "application/vnd.jupyter.widget-view+json": {
       "model_id": "ee18036d14b44383b1402bcb12db4482",
       "version_major": 2,
       "version_minor": 0
      },
      "text/plain": [
       "  0%|          | 0/1727 [00:00<?, ?it/s]"
      ]
     },
     "metadata": {},
     "output_type": "display_data"
    },
    {
     "name": "stdout",
     "output_type": "stream",
     "text": [
      "Saving checkpoint...\n",
      "Epoch: 13, Train loss: 1.274, Val loss: 1.190\n"
     ]
    },
    {
     "data": {
      "application/vnd.jupyter.widget-view+json": {
       "model_id": "7b9fa9b2deef4ab2be0cc05d8cb1414b",
       "version_major": 2,
       "version_minor": 0
      },
      "text/plain": [
       "train:   0%|          | 0/2000 [00:00<?, ?it/s]"
      ]
     },
     "metadata": {},
     "output_type": "display_data"
    },
    {
     "name": "stdout",
     "output_type": "stream",
     "text": [
      "Epoch: 14, Train loss: 1.262\n",
      "Epoch: 14, Train loss: 1.261\n",
      "Epoch: 14, Train loss: 1.262\n",
      "Epoch: 14, Train loss: 1.264\n",
      "Epoch: 14, Train loss: 1.259\n",
      "Epoch: 14, Train loss: 1.298\n",
      "Epoch: 14, Train loss: 1.262\n",
      "Epoch: 14, Train loss: 1.255\n",
      "Epoch: 14, Train loss: 1.257\n",
      "Epoch: 14, Train loss: 1.253\n",
      "Epoch: 14, Train loss: 1.252\n",
      "Epoch: 14, Train loss: 1.251\n",
      "Epoch: 14, Train loss: 1.251\n",
      "Epoch: 14, Train loss: 1.250\n",
      "Epoch: 14, Train loss: 1.251\n",
      "Epoch: 14, Train loss: 1.249\n",
      "Epoch: 14, Train loss: 1.250\n",
      "Epoch: 14, Train loss: 1.250\n",
      "Epoch: 14, Train loss: 1.253\n",
      "Epoch: 14, Train loss: 1.250\n"
     ]
    },
    {
     "data": {
      "application/vnd.jupyter.widget-view+json": {
       "model_id": "9a6dcdc799714b179a675c74f3eaf909",
       "version_major": 2,
       "version_minor": 0
      },
      "text/plain": [
       "  0%|          | 0/1727 [00:00<?, ?it/s]"
      ]
     },
     "metadata": {},
     "output_type": "display_data"
    },
    {
     "name": "stdout",
     "output_type": "stream",
     "text": [
      "Saving checkpoint...\n",
      "Epoch: 14, Train loss: 1.213, Val loss: 1.179\n"
     ]
    },
    {
     "data": {
      "application/vnd.jupyter.widget-view+json": {
       "model_id": "ad2b4a4ed1304273bcc84b540492f5e8",
       "version_major": 2,
       "version_minor": 0
      },
      "text/plain": [
       "train:   0%|          | 0/2000 [00:00<?, ?it/s]"
      ]
     },
     "metadata": {},
     "output_type": "display_data"
    },
    {
     "name": "stdout",
     "output_type": "stream",
     "text": [
      "Epoch: 15, Train loss: 1.248\n",
      "Epoch: 15, Train loss: 1.249\n",
      "Epoch: 15, Train loss: 1.248\n",
      "Epoch: 15, Train loss: 1.250\n",
      "Epoch: 15, Train loss: 1.244\n",
      "Epoch: 15, Train loss: 1.245\n",
      "Epoch: 15, Train loss: 1.246\n",
      "Epoch: 15, Train loss: 1.251\n",
      "Epoch: 15, Train loss: 1.248\n",
      "Epoch: 15, Train loss: 1.247\n",
      "Epoch: 15, Train loss: 1.248\n",
      "Epoch: 15, Train loss: 1.247\n",
      "Epoch: 15, Train loss: 1.248\n",
      "Epoch: 15, Train loss: 1.247\n",
      "Epoch: 15, Train loss: 1.244\n",
      "Epoch: 15, Train loss: 1.247\n",
      "Epoch: 15, Train loss: 1.247\n",
      "Epoch: 15, Train loss: 1.246\n",
      "Epoch: 15, Train loss: 1.242\n",
      "Epoch: 15, Train loss: 1.243\n"
     ]
    },
    {
     "data": {
      "application/vnd.jupyter.widget-view+json": {
       "model_id": "b9dfdfe01c3149fc9e3c1966ee0c1360",
       "version_major": 2,
       "version_minor": 0
      },
      "text/plain": [
       "  0%|          | 0/1727 [00:00<?, ?it/s]"
      ]
     },
     "metadata": {},
     "output_type": "display_data"
    },
    {
     "name": "stdout",
     "output_type": "stream",
     "text": [
      "Saving checkpoint...\n",
      "Epoch: 15, Train loss: 1.231, Val loss: 1.171\n"
     ]
    },
    {
     "data": {
      "application/vnd.jupyter.widget-view+json": {
       "model_id": "acab7e3ea632441aa9d3fa7072824178",
       "version_major": 2,
       "version_minor": 0
      },
      "text/plain": [
       "train:   0%|          | 0/2000 [00:00<?, ?it/s]"
      ]
     },
     "metadata": {},
     "output_type": "display_data"
    },
    {
     "name": "stdout",
     "output_type": "stream",
     "text": [
      "Epoch: 16, Train loss: 1.243\n",
      "Epoch: 16, Train loss: 1.241\n",
      "Epoch: 16, Train loss: 1.244\n",
      "Epoch: 16, Train loss: 1.241\n",
      "Epoch: 16, Train loss: 1.241\n",
      "Epoch: 16, Train loss: 1.240\n",
      "Epoch: 16, Train loss: 1.241\n",
      "Epoch: 16, Train loss: 1.238\n",
      "Epoch: 16, Train loss: 1.241\n",
      "Epoch: 16, Train loss: 1.238\n",
      "Epoch: 16, Train loss: 1.241\n",
      "Epoch: 16, Train loss: 1.242\n",
      "Epoch: 16, Train loss: 1.242\n",
      "Epoch: 16, Train loss: 1.239\n",
      "Epoch: 16, Train loss: 1.239\n",
      "Epoch: 16, Train loss: 1.243\n",
      "Epoch: 16, Train loss: 1.239\n",
      "Epoch: 16, Train loss: 1.239\n",
      "Epoch: 16, Train loss: 1.257\n",
      "Epoch: 16, Train loss: 1.239\n"
     ]
    },
    {
     "data": {
      "application/vnd.jupyter.widget-view+json": {
       "model_id": "dd25a7fdc2464779a7db2a1976a70b2c",
       "version_major": 2,
       "version_minor": 0
      },
      "text/plain": [
       "  0%|          | 0/1727 [00:00<?, ?it/s]"
      ]
     },
     "metadata": {},
     "output_type": "display_data"
    },
    {
     "name": "stdout",
     "output_type": "stream",
     "text": [
      "Saving checkpoint...\n",
      "Epoch: 16, Train loss: 1.233, Val loss: 1.168\n"
     ]
    },
    {
     "data": {
      "application/vnd.jupyter.widget-view+json": {
       "model_id": "eb24510d97f64e3abeb4c84176ef1940",
       "version_major": 2,
       "version_minor": 0
      },
      "text/plain": [
       "train:   0%|          | 0/2000 [00:00<?, ?it/s]"
      ]
     },
     "metadata": {},
     "output_type": "display_data"
    },
    {
     "name": "stdout",
     "output_type": "stream",
     "text": [
      "Epoch: 17, Train loss: 1.229\n",
      "Epoch: 17, Train loss: 1.230\n",
      "Epoch: 17, Train loss: 1.228\n",
      "Epoch: 17, Train loss: 1.229\n",
      "Epoch: 17, Train loss: 1.228\n",
      "Epoch: 17, Train loss: 1.229\n",
      "Epoch: 17, Train loss: 1.231\n",
      "Epoch: 17, Train loss: 1.228\n",
      "Epoch: 17, Train loss: 1.229\n",
      "Epoch: 17, Train loss: 1.228\n",
      "Epoch: 17, Train loss: 1.228\n",
      "Epoch: 17, Train loss: 1.229\n",
      "Epoch: 17, Train loss: 1.230\n",
      "Epoch: 17, Train loss: 1.227\n",
      "Epoch: 17, Train loss: 1.227\n",
      "Epoch: 17, Train loss: 1.227\n",
      "Epoch: 17, Train loss: 1.228\n",
      "Epoch: 17, Train loss: 1.227\n",
      "Epoch: 17, Train loss: 1.228\n",
      "Epoch: 17, Train loss: 1.227\n"
     ]
    },
    {
     "data": {
      "application/vnd.jupyter.widget-view+json": {
       "model_id": "0aa234b0b906435a94b6c56ac1c4a2b4",
       "version_major": 2,
       "version_minor": 0
      },
      "text/plain": [
       "  0%|          | 0/1727 [00:00<?, ?it/s]"
      ]
     },
     "metadata": {},
     "output_type": "display_data"
    },
    {
     "name": "stdout",
     "output_type": "stream",
     "text": [
      "Saving checkpoint...\n",
      "Epoch: 17, Train loss: 1.221, Val loss: 1.157\n"
     ]
    },
    {
     "data": {
      "application/vnd.jupyter.widget-view+json": {
       "model_id": "342cdb17b5234eacba335aff1368c2df",
       "version_major": 2,
       "version_minor": 0
      },
      "text/plain": [
       "train:   0%|          | 0/2000 [00:00<?, ?it/s]"
      ]
     },
     "metadata": {},
     "output_type": "display_data"
    },
    {
     "name": "stdout",
     "output_type": "stream",
     "text": [
      "Epoch: 18, Train loss: 1.225\n",
      "Epoch: 18, Train loss: 1.227\n",
      "Epoch: 18, Train loss: 1.226\n",
      "Epoch: 18, Train loss: 1.227\n",
      "Epoch: 18, Train loss: 1.225\n",
      "Epoch: 18, Train loss: 1.226\n",
      "Epoch: 18, Train loss: 1.224\n",
      "Epoch: 18, Train loss: 1.223\n",
      "Epoch: 18, Train loss: 1.224\n",
      "Epoch: 18, Train loss: 1.225\n",
      "Epoch: 18, Train loss: 1.225\n",
      "Epoch: 18, Train loss: 1.227\n",
      "Epoch: 18, Train loss: 1.222\n",
      "Epoch: 18, Train loss: 1.226\n",
      "Epoch: 18, Train loss: 1.222\n",
      "Epoch: 18, Train loss: 1.222\n",
      "Epoch: 18, Train loss: 1.223\n",
      "Epoch: 18, Train loss: 1.220\n",
      "Epoch: 18, Train loss: 1.224\n",
      "Epoch: 18, Train loss: 1.224\n"
     ]
    },
    {
     "data": {
      "application/vnd.jupyter.widget-view+json": {
       "model_id": "9964f9d65e6f4f7ba9b1e7607ebf0114",
       "version_major": 2,
       "version_minor": 0
      },
      "text/plain": [
       "  0%|          | 0/1727 [00:00<?, ?it/s]"
      ]
     },
     "metadata": {},
     "output_type": "display_data"
    },
    {
     "name": "stdout",
     "output_type": "stream",
     "text": [
      "Saving checkpoint...\n",
      "Epoch: 18, Train loss: 1.228, Val loss: 1.151\n"
     ]
    },
    {
     "data": {
      "application/vnd.jupyter.widget-view+json": {
       "model_id": "0bc2252f2b504a3891875021ec644ac4",
       "version_major": 2,
       "version_minor": 0
      },
      "text/plain": [
       "train:   0%|          | 0/2000 [00:00<?, ?it/s]"
      ]
     },
     "metadata": {},
     "output_type": "display_data"
    },
    {
     "name": "stdout",
     "output_type": "stream",
     "text": [
      "Epoch: 19, Train loss: 1.225\n",
      "Epoch: 19, Train loss: 1.225\n",
      "Epoch: 19, Train loss: 1.222\n",
      "Epoch: 19, Train loss: 1.220\n",
      "Epoch: 19, Train loss: 1.220\n",
      "Epoch: 19, Train loss: 1.224\n",
      "Epoch: 19, Train loss: 1.219\n",
      "Epoch: 19, Train loss: 1.224\n",
      "Epoch: 19, Train loss: 1.221\n",
      "Epoch: 19, Train loss: 1.221\n",
      "Epoch: 19, Train loss: 1.218\n",
      "Epoch: 19, Train loss: 1.236\n",
      "Epoch: 19, Train loss: 1.216\n",
      "Epoch: 19, Train loss: 1.212\n",
      "Epoch: 19, Train loss: 1.213\n",
      "Epoch: 19, Train loss: 1.213\n",
      "Epoch: 19, Train loss: 1.212\n",
      "Epoch: 19, Train loss: 1.211\n",
      "Epoch: 19, Train loss: 1.212\n",
      "Epoch: 19, Train loss: 1.211\n"
     ]
    },
    {
     "data": {
      "application/vnd.jupyter.widget-view+json": {
       "model_id": "26728f57d74b44b8931c93f1bfc03ef5",
       "version_major": 2,
       "version_minor": 0
      },
      "text/plain": [
       "  0%|          | 0/1727 [00:00<?, ?it/s]"
      ]
     },
     "metadata": {},
     "output_type": "display_data"
    },
    {
     "name": "stdout",
     "output_type": "stream",
     "text": [
      "Saving checkpoint...\n",
      "Epoch: 19, Train loss: 1.195, Val loss: 1.146\n"
     ]
    },
    {
     "data": {
      "application/vnd.jupyter.widget-view+json": {
       "model_id": "2cf681d2a5694f1c8742a3832562f164",
       "version_major": 2,
       "version_minor": 0
      },
      "text/plain": [
       "train:   0%|          | 0/2000 [00:00<?, ?it/s]"
      ]
     },
     "metadata": {},
     "output_type": "display_data"
    },
    {
     "name": "stdout",
     "output_type": "stream",
     "text": [
      "Epoch: 20, Train loss: 1.212\n",
      "Epoch: 20, Train loss: 1.212\n",
      "Epoch: 20, Train loss: 1.208\n",
      "Epoch: 20, Train loss: 1.210\n",
      "Epoch: 20, Train loss: 1.210\n",
      "Epoch: 20, Train loss: 1.210\n",
      "Epoch: 20, Train loss: 1.210\n",
      "Epoch: 20, Train loss: 1.210\n",
      "Epoch: 20, Train loss: 1.212\n",
      "Epoch: 20, Train loss: 1.211\n",
      "Epoch: 20, Train loss: 1.211\n",
      "Epoch: 20, Train loss: 1.209\n",
      "Epoch: 20, Train loss: 1.208\n",
      "Epoch: 20, Train loss: 1.210\n",
      "Epoch: 20, Train loss: 1.211\n",
      "Epoch: 20, Train loss: 1.209\n",
      "Epoch: 20, Train loss: 1.212\n",
      "Epoch: 20, Train loss: 1.211\n",
      "Epoch: 20, Train loss: 1.212\n",
      "Epoch: 20, Train loss: 1.213\n"
     ]
    },
    {
     "data": {
      "application/vnd.jupyter.widget-view+json": {
       "model_id": "8a52b210d7234633a144f8a610420a7b",
       "version_major": 2,
       "version_minor": 0
      },
      "text/plain": [
       "  0%|          | 0/1727 [00:00<?, ?it/s]"
      ]
     },
     "metadata": {},
     "output_type": "display_data"
    },
    {
     "name": "stdout",
     "output_type": "stream",
     "text": [
      "Saving checkpoint...\n",
      "Epoch: 20, Train loss: 1.210, Val loss: 1.141\n"
     ]
    },
    {
     "data": {
      "application/vnd.jupyter.widget-view+json": {
       "model_id": "8a23e4868fb747bd9c66b18366b49d2d",
       "version_major": 2,
       "version_minor": 0
      },
      "text/plain": [
       "train:   0%|          | 0/2000 [00:00<?, ?it/s]"
      ]
     },
     "metadata": {},
     "output_type": "display_data"
    },
    {
     "name": "stdout",
     "output_type": "stream",
     "text": [
      "Epoch: 21, Train loss: 1.208\n",
      "Epoch: 21, Train loss: 1.211\n",
      "Epoch: 21, Train loss: 1.209\n",
      "Epoch: 21, Train loss: 1.207\n",
      "Epoch: 21, Train loss: 1.208\n",
      "Epoch: 21, Train loss: 1.209\n",
      "Epoch: 21, Train loss: 1.210\n",
      "Epoch: 21, Train loss: 1.209\n",
      "Epoch: 21, Train loss: 1.208\n",
      "Epoch: 21, Train loss: 1.203\n",
      "Epoch: 21, Train loss: 1.208\n",
      "Epoch: 21, Train loss: 1.207\n",
      "Epoch: 21, Train loss: 1.208\n",
      "Epoch: 21, Train loss: 1.208\n",
      "Epoch: 21, Train loss: 1.205\n",
      "Epoch: 21, Train loss: 1.210\n",
      "Epoch: 21, Train loss: 1.209\n",
      "Epoch: 21, Train loss: 1.209\n",
      "Epoch: 21, Train loss: 1.204\n",
      "Epoch: 21, Train loss: 1.205\n"
     ]
    },
    {
     "data": {
      "application/vnd.jupyter.widget-view+json": {
       "model_id": "d44a0e01cbb247a3b302e54241be7c4f",
       "version_major": 2,
       "version_minor": 0
      },
      "text/plain": [
       "  0%|          | 0/1727 [00:00<?, ?it/s]"
      ]
     },
     "metadata": {},
     "output_type": "display_data"
    },
    {
     "name": "stdout",
     "output_type": "stream",
     "text": [
      "Saving checkpoint...\n",
      "Epoch: 21, Train loss: 1.225, Val loss: 1.136\n"
     ]
    },
    {
     "data": {
      "application/vnd.jupyter.widget-view+json": {
       "model_id": "27ebc34333634bdb824cad79bfded951",
       "version_major": 2,
       "version_minor": 0
      },
      "text/plain": [
       "train:   0%|          | 0/2000 [00:00<?, ?it/s]"
      ]
     },
     "metadata": {},
     "output_type": "display_data"
    },
    {
     "name": "stdout",
     "output_type": "stream",
     "text": [
      "Epoch: 22, Train loss: 1.207\n",
      "Epoch: 22, Train loss: 1.206\n",
      "Epoch: 22, Train loss: 1.204\n",
      "Epoch: 22, Train loss: 1.207\n",
      "Epoch: 22, Train loss: 1.224\n",
      "Epoch: 22, Train loss: 1.204\n",
      "Epoch: 22, Train loss: 1.199\n",
      "Epoch: 22, Train loss: 1.198\n",
      "Epoch: 22, Train loss: 1.195\n",
      "Epoch: 22, Train loss: 1.193\n",
      "Epoch: 22, Train loss: 1.198\n",
      "Epoch: 22, Train loss: 1.195\n",
      "Epoch: 22, Train loss: 1.196\n",
      "Epoch: 22, Train loss: 1.196\n",
      "Epoch: 22, Train loss: 1.197\n",
      "Epoch: 22, Train loss: 1.196\n",
      "Epoch: 22, Train loss: 1.199\n",
      "Epoch: 22, Train loss: 1.195\n",
      "Epoch: 22, Train loss: 1.198\n",
      "Epoch: 22, Train loss: 1.194\n"
     ]
    },
    {
     "data": {
      "application/vnd.jupyter.widget-view+json": {
       "model_id": "da8d3c72319246239990a1dfc59bc8f2",
       "version_major": 2,
       "version_minor": 0
      },
      "text/plain": [
       "  0%|          | 0/1727 [00:00<?, ?it/s]"
      ]
     },
     "metadata": {},
     "output_type": "display_data"
    },
    {
     "name": "stdout",
     "output_type": "stream",
     "text": [
      "Saving checkpoint...\n",
      "Epoch: 22, Train loss: 1.208, Val loss: 1.132\n"
     ]
    },
    {
     "data": {
      "application/vnd.jupyter.widget-view+json": {
       "model_id": "6a48df3556d14cdd84f52c5337d0fa82",
       "version_major": 2,
       "version_minor": 0
      },
      "text/plain": [
       "train:   0%|          | 0/2000 [00:00<?, ?it/s]"
      ]
     },
     "metadata": {},
     "output_type": "display_data"
    },
    {
     "name": "stdout",
     "output_type": "stream",
     "text": [
      "Epoch: 23, Train loss: 1.198\n",
      "Epoch: 23, Train loss: 1.197\n",
      "Epoch: 23, Train loss: 1.197\n",
      "Epoch: 23, Train loss: 1.195\n",
      "Epoch: 23, Train loss: 1.199\n",
      "Epoch: 23, Train loss: 1.197\n",
      "Epoch: 23, Train loss: 1.199\n",
      "Epoch: 23, Train loss: 1.198\n",
      "Epoch: 23, Train loss: 1.196\n",
      "Epoch: 23, Train loss: 1.199\n",
      "Epoch: 23, Train loss: 1.194\n",
      "Epoch: 23, Train loss: 1.194\n",
      "Epoch: 23, Train loss: 1.197\n",
      "Epoch: 23, Train loss: 1.196\n",
      "Epoch: 23, Train loss: 1.193\n",
      "Epoch: 23, Train loss: 1.193\n",
      "Epoch: 23, Train loss: 1.194\n",
      "Epoch: 23, Train loss: 1.194\n",
      "Epoch: 23, Train loss: 1.197\n",
      "Epoch: 23, Train loss: 1.194\n"
     ]
    },
    {
     "data": {
      "application/vnd.jupyter.widget-view+json": {
       "model_id": "50eef7e8e8094dd89d0b6e5c43fa9755",
       "version_major": 2,
       "version_minor": 0
      },
      "text/plain": [
       "  0%|          | 0/1727 [00:00<?, ?it/s]"
      ]
     },
     "metadata": {},
     "output_type": "display_data"
    },
    {
     "name": "stdout",
     "output_type": "stream",
     "text": [
      "Saving checkpoint...\n",
      "Epoch: 23, Train loss: 1.202, Val loss: 1.127\n"
     ]
    },
    {
     "data": {
      "application/vnd.jupyter.widget-view+json": {
       "model_id": "db8a208bd92b47b8a1e4db435081eea5",
       "version_major": 2,
       "version_minor": 0
      },
      "text/plain": [
       "train:   0%|          | 0/2000 [00:00<?, ?it/s]"
      ]
     },
     "metadata": {},
     "output_type": "display_data"
    },
    {
     "name": "stdout",
     "output_type": "stream",
     "text": [
      "Epoch: 24, Train loss: 1.193\n",
      "Epoch: 24, Train loss: 1.198\n",
      "Epoch: 24, Train loss: 1.194\n",
      "Epoch: 24, Train loss: 1.197\n",
      "Epoch: 24, Train loss: 1.194\n",
      "Epoch: 24, Train loss: 1.194\n",
      "Epoch: 24, Train loss: 1.192\n",
      "Epoch: 24, Train loss: 1.195\n",
      "Epoch: 24, Train loss: 1.194\n",
      "Epoch: 24, Train loss: 1.196\n",
      "Epoch: 24, Train loss: 1.194\n",
      "Epoch: 24, Train loss: 1.191\n",
      "Epoch: 24, Train loss: 1.192\n",
      "Epoch: 24, Train loss: 1.193\n",
      "Epoch: 24, Train loss: 1.197\n",
      "Epoch: 24, Train loss: 1.197\n",
      "Epoch: 24, Train loss: 1.192\n",
      "Epoch: 24, Train loss: 1.208\n",
      "Epoch: 24, Train loss: 1.189\n",
      "Epoch: 24, Train loss: 1.183\n"
     ]
    },
    {
     "data": {
      "application/vnd.jupyter.widget-view+json": {
       "model_id": "64c0c82a4fd74bdcb0e2e4b229da5867",
       "version_major": 2,
       "version_minor": 0
      },
      "text/plain": [
       "  0%|          | 0/1727 [00:00<?, ?it/s]"
      ]
     },
     "metadata": {},
     "output_type": "display_data"
    },
    {
     "name": "stdout",
     "output_type": "stream",
     "text": [
      "Saving checkpoint...\n",
      "Epoch: 24, Train loss: 1.190, Val loss: 1.125\n"
     ]
    },
    {
     "data": {
      "application/vnd.jupyter.widget-view+json": {
       "model_id": "a87f6464611d499baa14bacb4e113b89",
       "version_major": 2,
       "version_minor": 0
      },
      "text/plain": [
       "train:   0%|          | 0/2000 [00:00<?, ?it/s]"
      ]
     },
     "metadata": {},
     "output_type": "display_data"
    },
    {
     "name": "stdout",
     "output_type": "stream",
     "text": [
      "Epoch: 25, Train loss: 1.186\n",
      "Epoch: 25, Train loss: 1.186\n",
      "Epoch: 25, Train loss: 1.182\n",
      "Epoch: 25, Train loss: 1.184\n",
      "Epoch: 25, Train loss: 1.183\n",
      "Epoch: 25, Train loss: 1.184\n",
      "Epoch: 25, Train loss: 1.184\n",
      "Epoch: 25, Train loss: 1.185\n",
      "Epoch: 25, Train loss: 1.188\n",
      "Epoch: 25, Train loss: 1.184\n",
      "Epoch: 25, Train loss: 1.185\n",
      "Epoch: 25, Train loss: 1.184\n",
      "Epoch: 25, Train loss: 1.186\n",
      "Epoch: 25, Train loss: 1.185\n",
      "Epoch: 25, Train loss: 1.186\n"
     ]
    }
   ],
   "source": [
    "#!g2.1\n",
    "train(75, model, train_ds.pad_id, optimizer, train_loader, val_loader, device, train_ds, scheduler=scheduler, len_epoch=2000, log_step=100)"
   ]
  },
  {
   "cell_type": "code",
   "execution_count": null,
   "metadata": {
    "cellId": "s47rll6up4kee68dixmfrg"
   },
   "outputs": [],
   "source": [
    "#!g2.1\n"
   ]
  }
 ],
 "metadata": {
  "kaggle": {
   "accelerator": "gpu",
   "dataSources": [
    {
     "datasetId": 3991463,
     "sourceId": 6949948,
     "sourceType": "datasetVersion"
    }
   ],
   "dockerImageVersionId": 30580,
   "isGpuEnabled": true,
   "isInternetEnabled": true,
   "language": "python",
   "sourceType": "notebook"
  },
  "language_info": {
   "codemirror_mode": {
    "name": "ipython",
    "version": 3
   },
   "file_extension": ".py",
   "mimetype": "text/x-python",
   "name": "python",
   "nbconvert_exporter": "python",
   "pygments_lexer": "ipython3",
   "version": "3.7.7"
  },
  "notebookId": "62abe0d1-3aae-4069-86be-e0e9dc90e601",
  "notebookPath": "notebookfdb22596df.ipynb"
 },
 "nbformat": 4,
 "nbformat_minor": 4
}
